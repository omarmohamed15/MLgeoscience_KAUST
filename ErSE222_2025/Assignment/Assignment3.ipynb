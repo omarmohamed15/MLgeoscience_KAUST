{
 "cells": [
  {
   "cell_type": "markdown",
   "id": "2c19408f",
   "metadata": {},
   "source": [
    "## Q1) Given the normalized data named \"SiesmicEventsClassification_Normalized\", and the target is clustering between the noise and seismic event waveforms in a self-supervised/unsupervised manner, do the following:\n"
   ]
  },
  {
   "cell_type": "markdown",
   "id": "277cdac4",
   "metadata": {},
   "source": [
    "1. Divide the dataset into an 80% training set and a 20% testing set.\n",
    "\n",
    "2. Determine the ideal U-Net architecture that minimizes the reconstruction error on the testing dataset.\n",
    "\n",
    "3. Utilize the latent representation from the bottleneck layer to cluster seismic and noise waveforms, for instance, by employing the K-means algorithm. You can also use PCA for dimension reduction before applying K-means if the latent representation is large.\n",
    "\n",
    "4. Reiterate all the preceding steps using frequency or time-frequency transformed data as input for the network."
   ]
  },
  {
   "cell_type": "markdown",
   "id": "50d58adf",
   "metadata": {},
   "source": [
    "## Q2) Denoising and Interpolating Marmousi2 Data\n",
    "\n",
    "Given the Marmousi2 data, you are willing to denoise and interpolate the seismic data simultaneously. To prepare the input and output of the network, use the following code:\n"
   ]
  },
  {
   "cell_type": "code",
   "execution_count": null,
   "id": "7f679b02",
   "metadata": {},
   "outputs": [],
   "source": [
    "import torch\n",
    "import random\n",
    "\n",
    "# Small value to prevent division by zero in SNR\n",
    "epsilon = 1e-10\n",
    "\n",
    "# Example data with shape (30, 1000, 200)\n",
    "dat = torch.tensor(data)  # Convert to tensor\n",
    "num_shots = dat.shape[0]\n",
    "shots_per_noise_level = 10\n",
    "\n",
    "# Define different levels of noise (standard deviations)\n",
    "noise_levels = torch.linspace(0.5, 1, shots_per_noise_level)\n",
    "\n",
    "# Initialize a list to collect shots with noise and SNR\n",
    "noisy_shots = []\n",
    "clean_shots = []\n",
    "snr_values = []\n",
    "\n",
    "# Maximum percentage of gaps\n",
    "max_gap_percentage = 0.2\n",
    "\n",
    "# Add Gaussian noise to each shot and calculate SNR\n",
    "for i in range(num_shots):\n",
    "    for noise_level in noise_levels:\n",
    "        noise = torch.normal(mean=0.0, std=noise_level, size=dat[i, :, :].shape)\n",
    "        clean_shot = dat[i, :, :]\n",
    "        noisy_shot = dat[i, :, :] + noise\n",
    "        \n",
    "        # Create random gaps in the noisy shot\n",
    "        mask_size = noisy_shot.shape[1]  # Assuming size corresponds to 1000 in (30, 1000, 200)\n",
    "        num_gaps = int(mask_size * max_gap_percentage)\n",
    "        gap_indices = random.sample(range(mask_size), num_gaps)  # Randomly choose indices to mask\n",
    "\n",
    "        # Apply the gaps to the noisy shot\n",
    "        for idx in gap_indices:\n",
    "            noisy_shot[:, idx] = 0  # Set to zero or any value to create a gap\n",
    "\n",
    "        # Calculate SNR\n",
    "        signal_power = torch.mean(dat[i, :, :]**2)  # Power of the signal\n",
    "        noise_power = torch.mean(noise**2) + epsilon  # Power of the noise with epsilon\n",
    "        snr = 10 * torch.log10(signal_power / noise_power)  # SNR in dB   \n",
    "\n",
    "        snr_values.append(snr.item())\n",
    "        noisy_shots.append(noisy_shot)\n",
    "        clean_shots.append(clean_shot)\n",
    "\n",
    "# Convert list to a PyTorch tensor\n",
    "data_noisy = torch.stack(noisy_shots)\n",
    "data_clean = torch.stack(clean_shots)\n",
    "\n",
    "# Check the shape and SNR values\n",
    "print('The number of noisy data:', data_noisy.shape)  # Shape of the noisy data\n",
    "print(snr_values[0:10])  # Print the SNR for each noisy shot"
   ]
  },
  {
   "cell_type": "markdown",
   "id": "ee9407a6",
   "metadata": {},
   "source": [
    "## After preparing the data, do the following:\n",
    "\n",
    "1. Divide the data into 80% for training and 20% for testing.\n",
    "2. Plot the input and target of your problem to fully understand what you are trying to accomplish.\n",
    "3. Design a U-Net to denoise and interpolate the seismic data simultaneously.\n",
    "4. Plot some samples of the test set, obtain the SNR for each test sample, and calculate the SNR improvement after applying the U-Net."
   ]
  },
  {
   "cell_type": "code",
   "execution_count": null,
   "id": "99cddaa6",
   "metadata": {},
   "outputs": [],
   "source": []
  }
 ],
 "metadata": {
  "kernelspec": {
   "display_name": "ErSE222",
   "language": "python",
   "name": "erse222"
  },
  "language_info": {
   "codemirror_mode": {
    "name": "ipython",
    "version": 3
   },
   "file_extension": ".py",
   "mimetype": "text/x-python",
   "name": "python",
   "nbconvert_exporter": "python",
   "pygments_lexer": "ipython3",
   "version": "3.9.21"
  }
 },
 "nbformat": 4,
 "nbformat_minor": 5
}
