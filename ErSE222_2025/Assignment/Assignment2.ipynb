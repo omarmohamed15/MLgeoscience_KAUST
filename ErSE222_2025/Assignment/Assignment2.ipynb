{
 "cells": [
  {
   "cell_type": "markdown",
   "id": "96dcc70b",
   "metadata": {},
   "source": [
    "## Given the normalized data named \"SiesmicEventsClassification_Normalized\", and the target is classifying between the noise and seismic event waveforms, do the following:\n"
   ]
  },
  {
   "cell_type": "markdown",
   "id": "c7039c5e",
   "metadata": {},
   "source": [
    "1. **Convert the data into the frequency domain**.\n",
    "\n",
    "2. **Modify the network architecture to fit the new input shape**.\n",
    "\n",
    "3. **Split the dataset into 80% for training and 20% for testing**.\n",
    "\n",
    "4. **Identify the optimal network configuration that yields the highest classification accuracy on the testing set**.\n",
    "\n",
    "5. **Calculate the confusion matrix, precision, recall, and F1 score for the test set**.\n",
    "\n",
    "6. **Repeat all previous steps using the short-time Fourier transform (STFT) as the input for the network**."
   ]
  },
  {
   "cell_type": "code",
   "execution_count": null,
   "id": "4c3725e9",
   "metadata": {},
   "outputs": [],
   "source": []
  }
 ],
 "metadata": {
  "kernelspec": {
   "display_name": "ErSE222",
   "language": "python",
   "name": "erse222"
  },
  "language_info": {
   "codemirror_mode": {
    "name": "ipython",
    "version": 3
   },
   "file_extension": ".py",
   "mimetype": "text/x-python",
   "name": "python",
   "nbconvert_exporter": "python",
   "pygments_lexer": "ipython3",
   "version": "3.9.21"
  }
 },
 "nbformat": 4,
 "nbformat_minor": 5
}
