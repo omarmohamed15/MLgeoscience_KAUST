{
 "cells": [
  {
   "cell_type": "markdown",
   "id": "953f1a97",
   "metadata": {},
   "source": [
    "## Q1) Given the following equation:\n",
    "$$y = \\frac{1}{\\ell(x)}\\sum_i \\left[(x_i + 8)^4 + 6\\right],$$\n",
    "\n",
    "where we use $\\ell(x)$ to denote the number of elements in $x$. In other words, we are taking a mean here over the operation within the sum. You could imagine that $x$ are our parameters, and we want to optimize (either maximize or minimize) the output $y$. For this, we want to obtain the gradients $\\partial y / \\partial \\mathbf{x}$. For our example, we'll use $\\mathbf{x}=[1,3,5,7,9]$ as our input."
   ]
  },
  {
   "cell_type": "markdown",
   "id": "71157698",
   "metadata": {},
   "source": [
    "1. **Write the Python Code**  \n",
    "   Implement the equation using Python.\n",
    "\n",
    "2. **Plot the Computational Graph**  \n",
    "   Plot the computational graph of the previous equation.\n",
    "\n",
    "3. **Estimate the Gradient**  \n",
    "   Estimate the gradient theoretically using the chain rule and double-check your results with the outputs from the Pytorch code."
   ]
  },
  {
   "cell_type": "markdown",
   "id": "2cba22cb",
   "metadata": {},
   "source": [
    "## Q2)\n",
    "\n",
    "## You are tasked with modeling the quadratic equation \\( y = 2x^2 + 4 \\) using a PyTorch neural network.\n",
    "\n",
    "1. **Define a PyTorch model** that can approximate this equation. Your model should consist of:\n",
    "   - An input layer.\n",
    "   - One layer with linear activations.\n",
    "   - An output layer that predicts \\( y \\) for a given \\( x \\).\n",
    "\n",
    "2. **Generate a dataset** consisting of \\( x \\) values ranging from 0 to 10 (inclusive) and their corresponding \\( y \\) values calculated from the equation.\n",
    "\n",
    "3. **Train the model** using Mean Squared Error (MSE) loss and an optimizer of your choice for a specified number of epochs.\n",
    "\n",
    "4. **After training**, evaluate the model's output for an input value of \\( x = 3 \\). Provide the predicted value of \\( y \\) and compare it to the actual value calculated from the equation.\n",
    "\n",
    "**Your answer should include:**\n",
    "- The code for defining and training the model.\n",
    "- The output of the model for \\( x = 3 \\) along with a comparison to the calculated value from the equation, which is \\( y = 2(3^2) + 4 = 2(9) + 4 = 22 \\)."
   ]
  },
  {
   "cell_type": "code",
   "execution_count": null,
   "id": "56e07d07",
   "metadata": {},
   "outputs": [],
   "source": []
  }
 ],
 "metadata": {
  "kernelspec": {
   "display_name": "ErSE222",
   "language": "python",
   "name": "erse222"
  },
  "language_info": {
   "codemirror_mode": {
    "name": "ipython",
    "version": 3
   },
   "file_extension": ".py",
   "mimetype": "text/x-python",
   "name": "python",
   "nbconvert_exporter": "python",
   "pygments_lexer": "ipython3",
   "version": "3.9.21"
  }
 },
 "nbformat": 4,
 "nbformat_minor": 5
}
